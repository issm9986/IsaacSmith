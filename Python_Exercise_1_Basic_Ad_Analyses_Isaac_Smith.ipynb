{
  "nbformat": 4,
  "nbformat_minor": 0,
  "metadata": {
    "colab": {
      "name": "Python Exercise 1: Basic Ad Analyses Isaac Smith.ipynb",
      "provenance": []
    },
    "kernelspec": {
      "name": "python3",
      "display_name": "Python 3"
    }
  },
  "cells": [
    {
      "cell_type": "code",
      "metadata": {
        "id": "Hi9TrQm9j5DS",
        "colab_type": "code",
        "colab": {}
      },
      "source": [
        "import pandas as pd\n",
        "import statsmodels.api as sm\n"
      ],
      "execution_count": 0,
      "outputs": []
    },
    {
      "cell_type": "code",
      "metadata": {
        "id": "bPp7xKq4kQ2D",
        "colab_type": "code",
        "outputId": "c5f4b2e9-4dcf-40ae-a0b4-83500c997cbf",
        "colab": {
          "base_uri": "https://localhost:8080/",
          "height": 40
        }
      },
      "source": [
        "\n",
        "from google.colab import drive\n",
        "drive.mount('/content/drive')"
      ],
      "execution_count": 0,
      "outputs": [
        {
          "output_type": "stream",
          "text": [
            "Drive already mounted at /content/drive; to attempt to forcibly remount, call drive.mount(\"/content/drive\", force_remount=True).\n"
          ],
          "name": "stdout"
        }
      ]
    },
    {
      "cell_type": "code",
      "metadata": {
        "id": "dn_i7DQCkkAP",
        "colab_type": "code",
        "colab": {}
      },
      "source": [
        "csvfile = 'drive/My Drive/Colab Notebooks/Travel Pony Facebook.csv'\n",
        "adataframe = pd.read_csv(csvfile)"
      ],
      "execution_count": 0,
      "outputs": []
    },
    {
      "cell_type": "code",
      "metadata": {
        "id": "dV2Z0IbvktMg",
        "colab_type": "code",
        "outputId": "f6f43e03-708b-4df6-aba7-167d65a691a1",
        "colab": {
          "base_uri": "https://localhost:8080/",
          "height": 520
        }
      },
      "source": [
        "adataframe.head()"
      ],
      "execution_count": 0,
      "outputs": [
        {
          "output_type": "execute_result",
          "data": {
            "text/html": [
              "<div>\n",
              "<style scoped>\n",
              "    .dataframe tbody tr th:only-of-type {\n",
              "        vertical-align: middle;\n",
              "    }\n",
              "\n",
              "    .dataframe tbody tr th {\n",
              "        vertical-align: top;\n",
              "    }\n",
              "\n",
              "    .dataframe thead th {\n",
              "        text-align: right;\n",
              "    }\n",
              "</style>\n",
              "<table border=\"1\" class=\"dataframe\">\n",
              "  <thead>\n",
              "    <tr style=\"text-align: right;\">\n",
              "      <th></th>\n",
              "      <th>Start Date</th>\n",
              "      <th>End Date</th>\n",
              "      <th>Account</th>\n",
              "      <th>Campaign Name</th>\n",
              "      <th>Reach</th>\n",
              "      <th>Frequency</th>\n",
              "      <th>Impressions</th>\n",
              "      <th>Clicks</th>\n",
              "      <th>Unique Clicks</th>\n",
              "      <th>Amount Spent (USD)</th>\n",
              "      <th>Page Likes</th>\n",
              "      <th>Page Engagement</th>\n",
              "      <th>Post Engagement</th>\n",
              "      <th>Post Likes</th>\n",
              "      <th>Post Comments</th>\n",
              "      <th>Post Shares</th>\n",
              "      <th>Photo Views</th>\n",
              "      <th>Website Clicks</th>\n",
              "      <th>Cost per Page Like (USD)</th>\n",
              "      <th>Cost per Page Engagement (USD)</th>\n",
              "    </tr>\n",
              "  </thead>\n",
              "  <tbody>\n",
              "    <tr>\n",
              "      <th>0</th>\n",
              "      <td>2013-12-02</td>\n",
              "      <td>2013-12-02</td>\n",
              "      <td>Bob Jackson</td>\n",
              "      <td>Cyber Weekend</td>\n",
              "      <td>278117</td>\n",
              "      <td>2.314303</td>\n",
              "      <td>643647</td>\n",
              "      <td>336</td>\n",
              "      <td>313</td>\n",
              "      <td>300.00</td>\n",
              "      <td>3</td>\n",
              "      <td>246</td>\n",
              "      <td>243</td>\n",
              "      <td>0</td>\n",
              "      <td>0</td>\n",
              "      <td>0</td>\n",
              "      <td>0</td>\n",
              "      <td>243</td>\n",
              "      <td>100.00</td>\n",
              "      <td>1.219512</td>\n",
              "    </tr>\n",
              "    <tr>\n",
              "      <th>1</th>\n",
              "      <td>2013-12-01</td>\n",
              "      <td>2013-12-01</td>\n",
              "      <td>Bob Jackson</td>\n",
              "      <td>Cyber Weekend</td>\n",
              "      <td>221255</td>\n",
              "      <td>2.079090</td>\n",
              "      <td>460009</td>\n",
              "      <td>376</td>\n",
              "      <td>348</td>\n",
              "      <td>300.00</td>\n",
              "      <td>6</td>\n",
              "      <td>215</td>\n",
              "      <td>209</td>\n",
              "      <td>0</td>\n",
              "      <td>0</td>\n",
              "      <td>0</td>\n",
              "      <td>0</td>\n",
              "      <td>209</td>\n",
              "      <td>50.00</td>\n",
              "      <td>1.395349</td>\n",
              "    </tr>\n",
              "    <tr>\n",
              "      <th>2</th>\n",
              "      <td>2013-11-30</td>\n",
              "      <td>2013-11-30</td>\n",
              "      <td>Bob Jackson</td>\n",
              "      <td>Cyber Weekend</td>\n",
              "      <td>267915</td>\n",
              "      <td>2.499069</td>\n",
              "      <td>669538</td>\n",
              "      <td>383</td>\n",
              "      <td>345</td>\n",
              "      <td>300.00</td>\n",
              "      <td>2</td>\n",
              "      <td>252</td>\n",
              "      <td>250</td>\n",
              "      <td>0</td>\n",
              "      <td>0</td>\n",
              "      <td>0</td>\n",
              "      <td>0</td>\n",
              "      <td>250</td>\n",
              "      <td>150.00</td>\n",
              "      <td>1.190476</td>\n",
              "    </tr>\n",
              "    <tr>\n",
              "      <th>3</th>\n",
              "      <td>2013-11-29</td>\n",
              "      <td>2013-11-29</td>\n",
              "      <td>Bob Jackson</td>\n",
              "      <td>Cyber Weekend</td>\n",
              "      <td>280332</td>\n",
              "      <td>2.365406</td>\n",
              "      <td>663099</td>\n",
              "      <td>301</td>\n",
              "      <td>275</td>\n",
              "      <td>300.00</td>\n",
              "      <td>3</td>\n",
              "      <td>257</td>\n",
              "      <td>254</td>\n",
              "      <td>0</td>\n",
              "      <td>0</td>\n",
              "      <td>0</td>\n",
              "      <td>0</td>\n",
              "      <td>254</td>\n",
              "      <td>100.00</td>\n",
              "      <td>1.167315</td>\n",
              "    </tr>\n",
              "    <tr>\n",
              "      <th>4</th>\n",
              "      <td>2013-11-22</td>\n",
              "      <td>2013-11-22</td>\n",
              "      <td>Bob Jackson</td>\n",
              "      <td>TravelPony: General Ads</td>\n",
              "      <td>14269</td>\n",
              "      <td>1.000420</td>\n",
              "      <td>14275</td>\n",
              "      <td>64</td>\n",
              "      <td>61</td>\n",
              "      <td>35.18</td>\n",
              "      <td>2</td>\n",
              "      <td>14</td>\n",
              "      <td>12</td>\n",
              "      <td>0</td>\n",
              "      <td>0</td>\n",
              "      <td>0</td>\n",
              "      <td>0</td>\n",
              "      <td>12</td>\n",
              "      <td>17.59</td>\n",
              "      <td>2.512857</td>\n",
              "    </tr>\n",
              "  </tbody>\n",
              "</table>\n",
              "</div>"
            ],
            "text/plain": [
              "   Start Date  ... Cost per Page Engagement (USD)\n",
              "0  2013-12-02  ...                       1.219512\n",
              "1  2013-12-01  ...                       1.395349\n",
              "2  2013-11-30  ...                       1.190476\n",
              "3  2013-11-29  ...                       1.167315\n",
              "4  2013-11-22  ...                       2.512857\n",
              "\n",
              "[5 rows x 20 columns]"
            ]
          },
          "metadata": {
            "tags": []
          },
          "execution_count": 34
        }
      ]
    },
    {
      "cell_type": "code",
      "metadata": {
        "id": "lnvpYULalffM",
        "colab_type": "code",
        "colab": {
          "base_uri": "https://localhost:8080/",
          "height": 166
        },
        "outputId": "f2b94cfd-cdd4-4693-a6f6-bc283996b47c"
      },
      "source": [
        "#Create new column 'cost per impression'\n",
        "adataframe['cost per impression'] = adataframe['Amount Spent (USD)'] / adataframe['Impressions']"
      ],
      "execution_count": 1,
      "outputs": [
        {
          "output_type": "error",
          "ename": "NameError",
          "evalue": "ignored",
          "traceback": [
            "\u001b[0;31m---------------------------------------------------------------------------\u001b[0m",
            "\u001b[0;31mNameError\u001b[0m                                 Traceback (most recent call last)",
            "\u001b[0;32m<ipython-input-1-76904bacdbe4>\u001b[0m in \u001b[0;36m<module>\u001b[0;34m()\u001b[0m\n\u001b[0;32m----> 1\u001b[0;31m \u001b[0madataframe\u001b[0m\u001b[0;34m[\u001b[0m\u001b[0;34m'cost per impression'\u001b[0m\u001b[0;34m]\u001b[0m \u001b[0;34m=\u001b[0m \u001b[0madataframe\u001b[0m\u001b[0;34m[\u001b[0m\u001b[0;34m'Amount Spent (USD)'\u001b[0m\u001b[0;34m]\u001b[0m \u001b[0;34m/\u001b[0m \u001b[0madataframe\u001b[0m\u001b[0;34m[\u001b[0m\u001b[0;34m'Impressions'\u001b[0m\u001b[0;34m]\u001b[0m\u001b[0;34m\u001b[0m\u001b[0;34m\u001b[0m\u001b[0m\n\u001b[0m",
            "\u001b[0;31mNameError\u001b[0m: name 'adataframe' is not defined"
          ]
        }
      ]
    },
    {
      "cell_type": "code",
      "metadata": {
        "id": "8wY94UE-pIdE",
        "colab_type": "code",
        "outputId": "2f5bb1e4-b0cf-41d6-aed4-579a7e40b031",
        "colab": {
          "base_uri": "https://localhost:8080/",
          "height": 520
        }
      },
      "source": [
        "adataframe.head()"
      ],
      "execution_count": 0,
      "outputs": [
        {
          "output_type": "execute_result",
          "data": {
            "text/html": [
              "<div>\n",
              "<style scoped>\n",
              "    .dataframe tbody tr th:only-of-type {\n",
              "        vertical-align: middle;\n",
              "    }\n",
              "\n",
              "    .dataframe tbody tr th {\n",
              "        vertical-align: top;\n",
              "    }\n",
              "\n",
              "    .dataframe thead th {\n",
              "        text-align: right;\n",
              "    }\n",
              "</style>\n",
              "<table border=\"1\" class=\"dataframe\">\n",
              "  <thead>\n",
              "    <tr style=\"text-align: right;\">\n",
              "      <th></th>\n",
              "      <th>Start Date</th>\n",
              "      <th>End Date</th>\n",
              "      <th>Account</th>\n",
              "      <th>Campaign Name</th>\n",
              "      <th>Reach</th>\n",
              "      <th>Frequency</th>\n",
              "      <th>Impressions</th>\n",
              "      <th>Clicks</th>\n",
              "      <th>Unique Clicks</th>\n",
              "      <th>Amount Spent (USD)</th>\n",
              "      <th>Page Likes</th>\n",
              "      <th>Page Engagement</th>\n",
              "      <th>Post Engagement</th>\n",
              "      <th>Post Likes</th>\n",
              "      <th>Post Comments</th>\n",
              "      <th>Post Shares</th>\n",
              "      <th>Photo Views</th>\n",
              "      <th>Website Clicks</th>\n",
              "      <th>Cost per Page Like (USD)</th>\n",
              "      <th>Cost per Page Engagement (USD)</th>\n",
              "      <th>cost per impression</th>\n",
              "    </tr>\n",
              "  </thead>\n",
              "  <tbody>\n",
              "    <tr>\n",
              "      <th>0</th>\n",
              "      <td>2013-12-02</td>\n",
              "      <td>2013-12-02</td>\n",
              "      <td>Bob Jackson</td>\n",
              "      <td>Cyber Weekend</td>\n",
              "      <td>278117</td>\n",
              "      <td>2.314303</td>\n",
              "      <td>643647</td>\n",
              "      <td>336</td>\n",
              "      <td>313</td>\n",
              "      <td>300.00</td>\n",
              "      <td>3</td>\n",
              "      <td>246</td>\n",
              "      <td>243</td>\n",
              "      <td>0</td>\n",
              "      <td>0</td>\n",
              "      <td>0</td>\n",
              "      <td>0</td>\n",
              "      <td>243</td>\n",
              "      <td>100.00</td>\n",
              "      <td>1.219512</td>\n",
              "      <td>0.000466</td>\n",
              "    </tr>\n",
              "    <tr>\n",
              "      <th>1</th>\n",
              "      <td>2013-12-01</td>\n",
              "      <td>2013-12-01</td>\n",
              "      <td>Bob Jackson</td>\n",
              "      <td>Cyber Weekend</td>\n",
              "      <td>221255</td>\n",
              "      <td>2.079090</td>\n",
              "      <td>460009</td>\n",
              "      <td>376</td>\n",
              "      <td>348</td>\n",
              "      <td>300.00</td>\n",
              "      <td>6</td>\n",
              "      <td>215</td>\n",
              "      <td>209</td>\n",
              "      <td>0</td>\n",
              "      <td>0</td>\n",
              "      <td>0</td>\n",
              "      <td>0</td>\n",
              "      <td>209</td>\n",
              "      <td>50.00</td>\n",
              "      <td>1.395349</td>\n",
              "      <td>0.000652</td>\n",
              "    </tr>\n",
              "    <tr>\n",
              "      <th>2</th>\n",
              "      <td>2013-11-30</td>\n",
              "      <td>2013-11-30</td>\n",
              "      <td>Bob Jackson</td>\n",
              "      <td>Cyber Weekend</td>\n",
              "      <td>267915</td>\n",
              "      <td>2.499069</td>\n",
              "      <td>669538</td>\n",
              "      <td>383</td>\n",
              "      <td>345</td>\n",
              "      <td>300.00</td>\n",
              "      <td>2</td>\n",
              "      <td>252</td>\n",
              "      <td>250</td>\n",
              "      <td>0</td>\n",
              "      <td>0</td>\n",
              "      <td>0</td>\n",
              "      <td>0</td>\n",
              "      <td>250</td>\n",
              "      <td>150.00</td>\n",
              "      <td>1.190476</td>\n",
              "      <td>0.000448</td>\n",
              "    </tr>\n",
              "    <tr>\n",
              "      <th>3</th>\n",
              "      <td>2013-11-29</td>\n",
              "      <td>2013-11-29</td>\n",
              "      <td>Bob Jackson</td>\n",
              "      <td>Cyber Weekend</td>\n",
              "      <td>280332</td>\n",
              "      <td>2.365406</td>\n",
              "      <td>663099</td>\n",
              "      <td>301</td>\n",
              "      <td>275</td>\n",
              "      <td>300.00</td>\n",
              "      <td>3</td>\n",
              "      <td>257</td>\n",
              "      <td>254</td>\n",
              "      <td>0</td>\n",
              "      <td>0</td>\n",
              "      <td>0</td>\n",
              "      <td>0</td>\n",
              "      <td>254</td>\n",
              "      <td>100.00</td>\n",
              "      <td>1.167315</td>\n",
              "      <td>0.000452</td>\n",
              "    </tr>\n",
              "    <tr>\n",
              "      <th>4</th>\n",
              "      <td>2013-11-22</td>\n",
              "      <td>2013-11-22</td>\n",
              "      <td>Bob Jackson</td>\n",
              "      <td>TravelPony: General Ads</td>\n",
              "      <td>14269</td>\n",
              "      <td>1.000420</td>\n",
              "      <td>14275</td>\n",
              "      <td>64</td>\n",
              "      <td>61</td>\n",
              "      <td>35.18</td>\n",
              "      <td>2</td>\n",
              "      <td>14</td>\n",
              "      <td>12</td>\n",
              "      <td>0</td>\n",
              "      <td>0</td>\n",
              "      <td>0</td>\n",
              "      <td>0</td>\n",
              "      <td>12</td>\n",
              "      <td>17.59</td>\n",
              "      <td>2.512857</td>\n",
              "      <td>0.002464</td>\n",
              "    </tr>\n",
              "  </tbody>\n",
              "</table>\n",
              "</div>"
            ],
            "text/plain": [
              "   Start Date    End Date  ... Cost per Page Engagement (USD) cost per impression\n",
              "0  2013-12-02  2013-12-02  ...                       1.219512            0.000466\n",
              "1  2013-12-01  2013-12-01  ...                       1.395349            0.000652\n",
              "2  2013-11-30  2013-11-30  ...                       1.190476            0.000448\n",
              "3  2013-11-29  2013-11-29  ...                       1.167315            0.000452\n",
              "4  2013-11-22  2013-11-22  ...                       2.512857            0.002464\n",
              "\n",
              "[5 rows x 21 columns]"
            ]
          },
          "metadata": {
            "tags": []
          },
          "execution_count": 37
        }
      ]
    },
    {
      "cell_type": "code",
      "metadata": {
        "id": "gITcHwo5p1kD",
        "colab_type": "code",
        "colab": {}
      },
      "source": [
        "#Question 1"
      ],
      "execution_count": 0,
      "outputs": []
    },
    {
      "cell_type": "markdown",
      "metadata": {
        "id": "RIGH4pIwpxtF",
        "colab_type": "text"
      },
      "source": [
        "When considering 'cost per impression', what day of the week works best? (What day is it cheapest to generate impressions) \n",
        "What day works worst? (What day is most expensive)\n",
        "\n",
        "To answer this question, you're going to want to take the \"Start Date\" column and extract out the day of week. This would take a bit of messing around to parse the dates directly in Python, so you might try using a date parsing library like arrow (https://arrow.readthedocs.io/en/latest/). With arrow, your parsing code will look something like:\n"
      ]
    },
    {
      "cell_type": "code",
      "metadata": {
        "id": "x7UXiSkQp-fa",
        "colab_type": "code",
        "colab": {}
      },
      "source": [
        "adataframe['Start Date'] = pd.to_datetime(adataframe['Start Date'], format=\"%Y-%m-%d\")\n",
        "\n",
        "adataframe['Day of week(int)'] = adataframe['Start Date'].dt.weekday\n",
        "\n",
        "adataframe['Day of week (str)'] = adataframe['Start Date'].dt.day_name()"
      ],
      "execution_count": 0,
      "outputs": []
    },
    {
      "cell_type": "code",
      "metadata": {
        "id": "Qxrk-sHEqAEu",
        "colab_type": "code",
        "outputId": "21080582-217a-4a47-dc3c-66e219bb1679",
        "colab": {
          "base_uri": "https://localhost:8080/",
          "height": 500
        }
      },
      "source": [
        "adataframe.head()"
      ],
      "execution_count": 0,
      "outputs": [
        {
          "output_type": "execute_result",
          "data": {
            "text/html": [
              "<div>\n",
              "<style scoped>\n",
              "    .dataframe tbody tr th:only-of-type {\n",
              "        vertical-align: middle;\n",
              "    }\n",
              "\n",
              "    .dataframe tbody tr th {\n",
              "        vertical-align: top;\n",
              "    }\n",
              "\n",
              "    .dataframe thead th {\n",
              "        text-align: right;\n",
              "    }\n",
              "</style>\n",
              "<table border=\"1\" class=\"dataframe\">\n",
              "  <thead>\n",
              "    <tr style=\"text-align: right;\">\n",
              "      <th></th>\n",
              "      <th>Start Date</th>\n",
              "      <th>End Date</th>\n",
              "      <th>Account</th>\n",
              "      <th>Campaign Name</th>\n",
              "      <th>Reach</th>\n",
              "      <th>Frequency</th>\n",
              "      <th>Impressions</th>\n",
              "      <th>Clicks</th>\n",
              "      <th>Unique Clicks</th>\n",
              "      <th>Amount Spent (USD)</th>\n",
              "      <th>Page Likes</th>\n",
              "      <th>Page Engagement</th>\n",
              "      <th>Post Engagement</th>\n",
              "      <th>Post Likes</th>\n",
              "      <th>Post Comments</th>\n",
              "      <th>Post Shares</th>\n",
              "      <th>Photo Views</th>\n",
              "      <th>Website Clicks</th>\n",
              "      <th>Cost per Page Like (USD)</th>\n",
              "      <th>Cost per Page Engagement (USD)</th>\n",
              "      <th>cost per impression</th>\n",
              "      <th>Day of week(int)</th>\n",
              "      <th>Day of week (str)</th>\n",
              "    </tr>\n",
              "  </thead>\n",
              "  <tbody>\n",
              "    <tr>\n",
              "      <th>0</th>\n",
              "      <td>2013-12-02</td>\n",
              "      <td>2013-12-02</td>\n",
              "      <td>Bob Jackson</td>\n",
              "      <td>Cyber Weekend</td>\n",
              "      <td>278117</td>\n",
              "      <td>2.314303</td>\n",
              "      <td>643647</td>\n",
              "      <td>336</td>\n",
              "      <td>313</td>\n",
              "      <td>300.00</td>\n",
              "      <td>3</td>\n",
              "      <td>246</td>\n",
              "      <td>243</td>\n",
              "      <td>0</td>\n",
              "      <td>0</td>\n",
              "      <td>0</td>\n",
              "      <td>0</td>\n",
              "      <td>243</td>\n",
              "      <td>100.00</td>\n",
              "      <td>1.219512</td>\n",
              "      <td>0.000466</td>\n",
              "      <td>0</td>\n",
              "      <td>Monday</td>\n",
              "    </tr>\n",
              "    <tr>\n",
              "      <th>1</th>\n",
              "      <td>2013-12-01</td>\n",
              "      <td>2013-12-01</td>\n",
              "      <td>Bob Jackson</td>\n",
              "      <td>Cyber Weekend</td>\n",
              "      <td>221255</td>\n",
              "      <td>2.079090</td>\n",
              "      <td>460009</td>\n",
              "      <td>376</td>\n",
              "      <td>348</td>\n",
              "      <td>300.00</td>\n",
              "      <td>6</td>\n",
              "      <td>215</td>\n",
              "      <td>209</td>\n",
              "      <td>0</td>\n",
              "      <td>0</td>\n",
              "      <td>0</td>\n",
              "      <td>0</td>\n",
              "      <td>209</td>\n",
              "      <td>50.00</td>\n",
              "      <td>1.395349</td>\n",
              "      <td>0.000652</td>\n",
              "      <td>6</td>\n",
              "      <td>Sunday</td>\n",
              "    </tr>\n",
              "    <tr>\n",
              "      <th>2</th>\n",
              "      <td>2013-11-30</td>\n",
              "      <td>2013-11-30</td>\n",
              "      <td>Bob Jackson</td>\n",
              "      <td>Cyber Weekend</td>\n",
              "      <td>267915</td>\n",
              "      <td>2.499069</td>\n",
              "      <td>669538</td>\n",
              "      <td>383</td>\n",
              "      <td>345</td>\n",
              "      <td>300.00</td>\n",
              "      <td>2</td>\n",
              "      <td>252</td>\n",
              "      <td>250</td>\n",
              "      <td>0</td>\n",
              "      <td>0</td>\n",
              "      <td>0</td>\n",
              "      <td>0</td>\n",
              "      <td>250</td>\n",
              "      <td>150.00</td>\n",
              "      <td>1.190476</td>\n",
              "      <td>0.000448</td>\n",
              "      <td>5</td>\n",
              "      <td>Saturday</td>\n",
              "    </tr>\n",
              "    <tr>\n",
              "      <th>3</th>\n",
              "      <td>2013-11-29</td>\n",
              "      <td>2013-11-29</td>\n",
              "      <td>Bob Jackson</td>\n",
              "      <td>Cyber Weekend</td>\n",
              "      <td>280332</td>\n",
              "      <td>2.365406</td>\n",
              "      <td>663099</td>\n",
              "      <td>301</td>\n",
              "      <td>275</td>\n",
              "      <td>300.00</td>\n",
              "      <td>3</td>\n",
              "      <td>257</td>\n",
              "      <td>254</td>\n",
              "      <td>0</td>\n",
              "      <td>0</td>\n",
              "      <td>0</td>\n",
              "      <td>0</td>\n",
              "      <td>254</td>\n",
              "      <td>100.00</td>\n",
              "      <td>1.167315</td>\n",
              "      <td>0.000452</td>\n",
              "      <td>4</td>\n",
              "      <td>Friday</td>\n",
              "    </tr>\n",
              "    <tr>\n",
              "      <th>4</th>\n",
              "      <td>2013-11-22</td>\n",
              "      <td>2013-11-22</td>\n",
              "      <td>Bob Jackson</td>\n",
              "      <td>TravelPony: General Ads</td>\n",
              "      <td>14269</td>\n",
              "      <td>1.000420</td>\n",
              "      <td>14275</td>\n",
              "      <td>64</td>\n",
              "      <td>61</td>\n",
              "      <td>35.18</td>\n",
              "      <td>2</td>\n",
              "      <td>14</td>\n",
              "      <td>12</td>\n",
              "      <td>0</td>\n",
              "      <td>0</td>\n",
              "      <td>0</td>\n",
              "      <td>0</td>\n",
              "      <td>12</td>\n",
              "      <td>17.59</td>\n",
              "      <td>2.512857</td>\n",
              "      <td>0.002464</td>\n",
              "      <td>4</td>\n",
              "      <td>Friday</td>\n",
              "    </tr>\n",
              "  </tbody>\n",
              "</table>\n",
              "</div>"
            ],
            "text/plain": [
              "  Start Date    End Date  ... Day of week(int) Day of week (str)\n",
              "0 2013-12-02  2013-12-02  ...                0            Monday\n",
              "1 2013-12-01  2013-12-01  ...                6            Sunday\n",
              "2 2013-11-30  2013-11-30  ...                5          Saturday\n",
              "3 2013-11-29  2013-11-29  ...                4            Friday\n",
              "4 2013-11-22  2013-11-22  ...                4            Friday\n",
              "\n",
              "[5 rows x 23 columns]"
            ]
          },
          "metadata": {
            "tags": []
          },
          "execution_count": 59
        }
      ]
    },
    {
      "cell_type": "code",
      "metadata": {
        "id": "6DvtcMF4p5dP",
        "colab_type": "code",
        "outputId": "a716d6bb-8a7c-419e-b8ec-d2c38ef772f7",
        "colab": {
          "base_uri": "https://localhost:8080/",
          "height": 546
        }
      },
      "source": [
        "target = adataframe['cost per impression']\n",
        "dep = adataframe[['Day of week(int)']]\n",
        "mod = sm.OLS(target, dep)\n",
        "ols = mod.fit() #fitting the model\n",
        "print(ols.summary())\n",
        "\n",
        "\n",
        "\n",
        "#DID NOT USE THIS IN MY ANSWERS"
      ],
      "execution_count": 0,
      "outputs": [
        {
          "output_type": "stream",
          "text": [
            "                                 OLS Regression Results                                 \n",
            "========================================================================================\n",
            "Dep. Variable:     cost per impression   R-squared (uncentered):                   0.087\n",
            "Model:                             OLS   Adj. R-squared (uncentered):              0.087\n",
            "Method:                  Least Squares   F-statistic:                              353.0\n",
            "Date:                 Wed, 13 Nov 2019   Prob (F-statistic):                    2.63e-75\n",
            "Time:                         18:29:28   Log-Likelihood:                          12195.\n",
            "No. Observations:                 3705   AIC:                                 -2.439e+04\n",
            "Df Residuals:                     3704   BIC:                                 -2.438e+04\n",
            "Df Model:                            1                                                  \n",
            "Covariance Type:             nonrobust                                                  \n",
            "====================================================================================\n",
            "                       coef    std err          t      P>|t|      [0.025      0.975]\n",
            "------------------------------------------------------------------------------------\n",
            "Day of week(int)     0.0008   4.21e-05     18.790      0.000       0.001       0.001\n",
            "==============================================================================\n",
            "Omnibus:                     8280.985   Durbin-Watson:                   1.908\n",
            "Prob(Omnibus):                  0.000   Jarque-Bera (JB):         61439512.036\n",
            "Skew:                          20.468   Prob(JB):                         0.00\n",
            "Kurtosis:                     632.534   Cond. No.                         1.00\n",
            "==============================================================================\n",
            "\n",
            "Warnings:\n",
            "[1] Standard Errors assume that the covariance matrix of the errors is correctly specified.\n"
          ],
          "name": "stdout"
        }
      ]
    },
    {
      "cell_type": "code",
      "metadata": {
        "id": "GXsM8BtdqAU4",
        "colab_type": "code",
        "outputId": "8203f804-9a34-43ed-bdfd-c1d71de23c73",
        "colab": {
          "base_uri": "https://localhost:8080/",
          "height": 380
        }
      },
      "source": [
        "adataframe.groupby('Day of week(int)')[['cost per impression']].mean()"
      ],
      "execution_count": 0,
      "outputs": [
        {
          "output_type": "execute_result",
          "data": {
            "text/html": [
              "<div>\n",
              "<style scoped>\n",
              "    .dataframe tbody tr th:only-of-type {\n",
              "        vertical-align: middle;\n",
              "    }\n",
              "\n",
              "    .dataframe tbody tr th {\n",
              "        vertical-align: top;\n",
              "    }\n",
              "\n",
              "    .dataframe thead th {\n",
              "        text-align: right;\n",
              "    }\n",
              "</style>\n",
              "<table border=\"1\" class=\"dataframe\">\n",
              "  <thead>\n",
              "    <tr style=\"text-align: right;\">\n",
              "      <th></th>\n",
              "      <th>cost per impression</th>\n",
              "    </tr>\n",
              "    <tr>\n",
              "      <th>Day of week(int)</th>\n",
              "      <th></th>\n",
              "    </tr>\n",
              "  </thead>\n",
              "  <tbody>\n",
              "    <tr>\n",
              "      <th>0</th>\n",
              "      <td>0.002910</td>\n",
              "    </tr>\n",
              "    <tr>\n",
              "      <th>1</th>\n",
              "      <td>0.003040</td>\n",
              "    </tr>\n",
              "    <tr>\n",
              "      <th>2</th>\n",
              "      <td>0.002981</td>\n",
              "    </tr>\n",
              "    <tr>\n",
              "      <th>3</th>\n",
              "      <td>0.003398</td>\n",
              "    </tr>\n",
              "    <tr>\n",
              "      <th>4</th>\n",
              "      <td>0.004097</td>\n",
              "    </tr>\n",
              "    <tr>\n",
              "      <th>5</th>\n",
              "      <td>0.002629</td>\n",
              "    </tr>\n",
              "    <tr>\n",
              "      <th>6</th>\n",
              "      <td>0.003688</td>\n",
              "    </tr>\n",
              "  </tbody>\n",
              "</table>\n",
              "</div>"
            ],
            "text/plain": [
              "                  cost per impression\n",
              "Day of week(int)                     \n",
              "0                            0.002910\n",
              "1                            0.003040\n",
              "2                            0.002981\n",
              "3                            0.003398\n",
              "4                            0.004097\n",
              "5                            0.002629\n",
              "6                            0.003688"
            ]
          },
          "metadata": {
            "tags": []
          },
          "execution_count": 76
        }
      ]
    },
    {
      "cell_type": "code",
      "metadata": {
        "id": "3LF2eiG4-FzQ",
        "colab_type": "code",
        "colab": {}
      },
      "source": [
        "#Question 1 Answer: (Day 0 = Monday, Day 1= Tuesday, Day 2= Wed, Day 3 = Thurds, Day 4= Friday, Day 5 = Saturday, Day 6 = Sunday)\n",
        "\n",
        "# Cheapest day to generate impressions = Saturday(.002629) \n",
        "# Worst day to generate impressions (most expensive) =  Friday (.004097)"
      ],
      "execution_count": 0,
      "outputs": []
    },
    {
      "cell_type": "code",
      "metadata": {
        "id": "oune2VkhqBgz",
        "colab_type": "code",
        "colab": {}
      },
      "source": [
        "#Question 2"
      ],
      "execution_count": 0,
      "outputs": []
    },
    {
      "cell_type": "markdown",
      "metadata": {
        "id": "_4Yl8JkHqCMV",
        "colab_type": "text"
      },
      "source": [
        "Next, compute the correlation (Links to an external site.) between Amount Spent and the following variables:\n",
        "- Reach\n",
        "- Frequency \n",
        "- Unique Clicks\n",
        "- Page Likes\n",
        "\n",
        "Which correlation is the strongest? What does that mean practically? (respond in a tweet or less)"
      ]
    },
    {
      "cell_type": "code",
      "metadata": {
        "id": "BNGd9Z9TqIx5",
        "colab_type": "code",
        "outputId": "76c1026e-5ff7-4d8c-a6f6-19e2195560e9",
        "colab": {
          "base_uri": "https://localhost:8080/",
          "height": 656
        }
      },
      "source": [
        "target = adataframe['Amount Spent (USD)']\n",
        "dep = adataframe[['Reach','Frequency','Unique Clicks','Page Likes']]\n",
        "mod = sm.OLS(target, dep)\n",
        "ols = mod.fit() #fitting the model\n",
        "print(ols.summary())"
      ],
      "execution_count": 0,
      "outputs": [
        {
          "output_type": "stream",
          "text": [
            "                                 OLS Regression Results                                \n",
            "=======================================================================================\n",
            "Dep. Variable:     Amount Spent (USD)   R-squared (uncentered):                   0.905\n",
            "Model:                            OLS   Adj. R-squared (uncentered):              0.905\n",
            "Method:                 Least Squares   F-statistic:                              8800.\n",
            "Date:                Wed, 13 Nov 2019   Prob (F-statistic):                        0.00\n",
            "Time:                        16:50:13   Log-Likelihood:                         -13145.\n",
            "No. Observations:                3705   AIC:                                  2.630e+04\n",
            "Df Residuals:                    3701   BIC:                                  2.632e+04\n",
            "Df Model:                           4                                                  \n",
            "Covariance Type:            nonrobust                                                  \n",
            "=================================================================================\n",
            "                    coef    std err          t      P>|t|      [0.025      0.975]\n",
            "---------------------------------------------------------------------------------\n",
            "Reach             0.0006   2.14e-05     29.866      0.000       0.001       0.001\n",
            "Frequency         0.3320      0.144      2.302      0.021       0.049       0.615\n",
            "Unique Clicks     0.4700      0.009     50.918      0.000       0.452       0.488\n",
            "Page Likes        4.0329      0.066     60.772      0.000       3.903       4.163\n",
            "==============================================================================\n",
            "Omnibus:                     2894.230   Durbin-Watson:                   1.868\n",
            "Prob(Omnibus):                  0.000   Jarque-Bera (JB):           397737.734\n",
            "Skew:                           2.931   Prob(JB):                         0.00\n",
            "Kurtosis:                      53.419   Cond. No.                     1.02e+04\n",
            "==============================================================================\n",
            "\n",
            "Warnings:\n",
            "[1] Standard Errors assume that the covariance matrix of the errors is correctly specified.\n",
            "[2] The condition number is large, 1.02e+04. This might indicate that there are\n",
            "strong multicollinearity or other numerical problems.\n"
          ],
          "name": "stdout"
        }
      ]
    },
    {
      "cell_type": "code",
      "metadata": {
        "id": "NM5tv12YryqM",
        "colab_type": "code",
        "colab": {}
      },
      "source": [
        "#Answer to Q2(Interpretation):\n",
        "\n",
        "\n",
        "\n",
        "#The strongest correlation is between Amount Spent and Page Likes. The more page an Advertiser spends on their campaigns, the more page likes they will likely receive. "
      ],
      "execution_count": 0,
      "outputs": []
    },
    {
      "cell_type": "code",
      "metadata": {
        "id": "oH14JG2crRvd",
        "colab_type": "code",
        "colab": {}
      },
      "source": [
        "#Question 3"
      ],
      "execution_count": 0,
      "outputs": []
    },
    {
      "cell_type": "markdown",
      "metadata": {
        "id": "wX9uNxH2rT5-",
        "colab_type": "text"
      },
      "source": [
        "Finally, perform a simple multiple regression analysis (Links to an external site.) where Unique Clicks is the dependent variable and Reach and Frequency are the independent (predictor) variables.\n",
        "\n",
        "What variable most strongly predicts unique clicks? What does that mean practically? (respond in a tweet or less)\n"
      ]
    },
    {
      "cell_type": "code",
      "metadata": {
        "id": "0HCoqNdcrTYf",
        "colab_type": "code",
        "outputId": "0517ec93-37ac-4f07-be16-4b2d59dfc77f",
        "colab": {
          "base_uri": "https://localhost:8080/",
          "height": 612
        }
      },
      "source": [
        "target = adataframe['Unique Clicks']\n",
        "dep = adataframe[['Reach','Frequency']]\n",
        "mod = sm.OLS(target, dep)\n",
        "ols = mod.fit() #fitting the model\n",
        "print(ols.summary())"
      ],
      "execution_count": 0,
      "outputs": [
        {
          "output_type": "stream",
          "text": [
            "                                 OLS Regression Results                                \n",
            "=======================================================================================\n",
            "Dep. Variable:          Unique Clicks   R-squared (uncentered):                   0.557\n",
            "Model:                            OLS   Adj. R-squared (uncentered):              0.556\n",
            "Method:                 Least Squares   F-statistic:                              2325.\n",
            "Date:                Wed, 13 Nov 2019   Prob (F-statistic):                        0.00\n",
            "Time:                        17:40:29   Log-Likelihood:                         -15973.\n",
            "No. Observations:                3705   AIC:                                  3.195e+04\n",
            "Df Residuals:                    3703   BIC:                                  3.196e+04\n",
            "Df Model:                           2                                                  \n",
            "Covariance Type:            nonrobust                                                  \n",
            "==============================================================================\n",
            "                 coef    std err          t      P>|t|      [0.025      0.975]\n",
            "------------------------------------------------------------------------------\n",
            "Reach          0.0019   3.12e-05     62.490      0.000       0.002       0.002\n",
            "Frequency      3.6139      0.298     12.109      0.000       3.029       4.199\n",
            "==============================================================================\n",
            "Omnibus:                     5107.616   Durbin-Watson:                   0.803\n",
            "Prob(Omnibus):                  0.000   Jarque-Bera (JB):          5128392.747\n",
            "Skew:                           7.331   Prob(JB):                         0.00\n",
            "Kurtosis:                     184.674   Cond. No.                     9.84e+03\n",
            "==============================================================================\n",
            "\n",
            "Warnings:\n",
            "[1] Standard Errors assume that the covariance matrix of the errors is correctly specified.\n",
            "[2] The condition number is large, 9.84e+03. This might indicate that there are\n",
            "strong multicollinearity or other numerical problems.\n"
          ],
          "name": "stdout"
        }
      ]
    },
    {
      "cell_type": "code",
      "metadata": {
        "id": "OFt4FJZltKKG",
        "colab_type": "code",
        "colab": {}
      },
      "source": [
        "#Answer to Q3(Interpretation): Unique Clicks is most strongly affected by Frequency. To increase Unique Clicks, they should increase the Frequency of their ads, rather than increasing their reach as this would be less affective."
      ],
      "execution_count": 0,
      "outputs": []
    }
  ]
}